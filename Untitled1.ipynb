{
  "nbformat": 4,
  "nbformat_minor": 0,
  "metadata": {
    "colab": {
      "provenance": [],
      "authorship_tag": "ABX9TyM+VmxCyLVhakuX+AYseoqo",
      "include_colab_link": true
    },
    "kernelspec": {
      "name": "python3",
      "display_name": "Python 3"
    },
    "language_info": {
      "name": "python"
    }
  },
  "cells": [
    {
      "cell_type": "markdown",
      "metadata": {
        "id": "view-in-github",
        "colab_type": "text"
      },
      "source": [
        "<a href=\"https://colab.research.google.com/github/GVK-Sindhu/GFG/blob/main/Untitled1.ipynb\" target=\"_parent\"><img src=\"https://colab.research.google.com/assets/colab-badge.svg\" alt=\"Open In Colab\"/></a>"
      ]
    },
    {
      "cell_type": "code",
      "execution_count": 1,
      "metadata": {
        "colab": {
          "base_uri": "https://localhost:8080/",
          "height": 106
        },
        "id": "RCNZ4t8ZkYSM",
        "outputId": "9040cef5-1b66-4279-dfdc-1a931a6eb186"
      },
      "outputs": [
        {
          "output_type": "error",
          "ename": "SyntaxError",
          "evalue": "unexpected character after line continuation character (<ipython-input-1-0aa555727124>, line 1)",
          "traceback": [
            "\u001b[0;36m  File \u001b[0;32m\"<ipython-input-1-0aa555727124>\"\u001b[0;36m, line \u001b[0;32m1\u001b[0m\n\u001b[0;31m    \\sigma_{condition}\u001b[0m\n\u001b[0m     ^\u001b[0m\n\u001b[0;31mSyntaxError\u001b[0m\u001b[0;31m:\u001b[0m unexpected character after line continuation character\n"
          ]
        }
      ],
      "source": [
        "\\sigma_{condition}"
      ]
    },
    {
      "cell_type": "markdown",
      "source": [
        "$$\\pi_{*}(EMP)$$\n",
        "<!-- SELECT id,name,salary FROM employee -->\n",
        "$$\\pi_{id,name,salary}(employee)$$\n",
        "$$\\pi_{id,name,salary}(\\sigma_{salary>1000}(employee))$$\n",
        "$$ \\pi_{id,name,salary,age}(\\sigma_{salary>1000 \\land age>50}(emp))$$\n",
        "<!-- SELECT * FROM emp NATURAL JOIN department -->\n",
        "$$ \\pi_{*}(emp \\bowtie department)$$\n",
        "<!-- SELECT e.emp_id,e.name,e.salary,d.dept_id,d.dept_name  FROM employee e NATURAL JOIN department d -->\n",
        "$$ let \\space emp \\space be \\space e$$\n",
        "$$ let \\space dept \\space be \\space d$$\n",
        "$$ \\pi_{e.emp\\_id,e.name,e.salary,d.dept\\_id,d.dept\\_name}(e \\bowtie d)$$\n",
        "\n",
        "\n",
        "<!-- SELECT * FROM students s JOIN course c ON s.course_id=c.id -->\n",
        "$$ \\pi_{*} (s \\bowtie_{s.course\\_id=c.id} c)$$\n",
        "\n",
        "<!-- SELECT * FROM student s JOIN course c ON s.course_id=c.id WHERE s.age>17 AND c.price>2000 -->\n",
        "$$ let \\space student \\space be \\space s$$\n",
        "$$ let \\space course \\space be \\space c$$\n",
        "$$ \\pi_{*} (\\sigma_{s.age>17 \\land s.price>2000}(s \\bowtie_{s.course\\_id=c.id} c))$$\n",
        "<!-- SELECT id,name,salary FROM emp ORDER BY salary DESC,name ASC -->\n",
        "$$ \\tau_{salary DESC,nmae ASC}(\\pi_{id,name,sal}(emp))$$\n",
        "<!-- single col multiple row subquery -->\n",
        "<!-- SELECT * FROM user WHERE id IN (SELECT user_id FROM orders) -->\n",
        "$$ let \\space D \\space be \\space \\pi_{user\\_id}(orders)$$\n",
        "$$ \\pi_{*}(\\sigma_{id \\in D}(user))\n",
        "$$"
      ],
      "metadata": {
        "id": "-jVYQaXEmEP6"
      }
    },
    {
      "cell_type": "markdown",
      "source": [],
      "metadata": {
        "id": "-VzgAzPdnryy"
      }
    },
    {
      "cell_type": "code",
      "source": [],
      "metadata": {
        "id": "DtWX7Ff_nrJy"
      },
      "execution_count": null,
      "outputs": []
    },
    {
      "cell_type": "markdown",
      "source": [
        "<!-- SELECT * FROM employee -->\n",
        "<!-- relational algebra expression -->\n",
        "$$\\pi_{*}(employee)$$\n",
        "\n",
        "\n"
      ],
      "metadata": {
        "id": "iR5qxTs6m3sd"
      }
    },
    {
      "cell_type": "markdown",
      "source": [
        "\\sigma_{condition}\n"
      ],
      "metadata": {
        "id": "_bK9pWlUlISG"
      }
    },
    {
      "cell_type": "markdown",
      "source": [],
      "metadata": {
        "id": "flxzEVM6l4zu"
      }
    }
  ]
}